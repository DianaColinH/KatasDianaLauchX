{
 "cells": [
  {
   "cell_type": "markdown",
   "metadata": {},
   "source": [
    "Módulo 7"
   ]
  },
  {
   "cell_type": "markdown",
   "metadata": {},
   "source": [
    "Ejercicio 1"
   ]
  },
  {
   "cell_type": "code",
   "execution_count": 1,
   "metadata": {},
   "outputs": [],
   "source": [
    "# Declaramos 2 variables\n",
    "\n",
    "planetanuevo = ''\n",
    "planetas = []\n",
    "\n",
    "# Escribe el ciclo while solicitado\n",
    "\n",
    "while planetanuevo.lower() != 'done':\n",
    "    if planetanuevo:\n",
    "        planetas.append(planetanuevo)\n",
    "    planetanuevo = input('Ingresa un planeta: ')"
   ]
  },
  {
   "cell_type": "markdown",
   "metadata": {},
   "source": [
    "Ejercicio 2"
   ]
  },
  {
   "cell_type": "code",
   "execution_count": 2,
   "metadata": {},
   "outputs": [
    {
     "name": "stdout",
     "output_type": "stream",
     "text": [
      "Mercurio\n",
      "Venus\n"
     ]
    }
   ],
   "source": [
    "planetanuevo = ''\n",
    "planetas = []\n",
    "\n",
    "# Escribe el ciclo while solicitado\n",
    "\n",
    "while planetanuevo.lower() != 'done':\n",
    "    if planetanuevo:\n",
    "        planetas.append(planetanuevo)\n",
    "    planetanuevo = input('Ingresa un planeta: ')\n",
    "\n",
    "# Escribe tu ciclo for para iterar en una lista de planetas\n",
    "\n",
    "for planeta in planetas:\n",
    "    print(planeta)"
   ]
  }
 ],
 "metadata": {
  "interpreter": {
   "hash": "3e703312b85f56f3e2303e4a57f8fcc3b7bb059c1597519b6fdca3d9f8872ed0"
  },
  "kernelspec": {
   "display_name": "Python 3.8.10 64-bit (windows store)",
   "language": "python",
   "name": "python3"
  },
  "language_info": {
   "codemirror_mode": {
    "name": "ipython",
    "version": 3
   },
   "file_extension": ".py",
   "mimetype": "text/x-python",
   "name": "python",
   "nbconvert_exporter": "python",
   "pygments_lexer": "ipython3",
   "version": "3.8.10"
  },
  "orig_nbformat": 4
 },
 "nbformat": 4,
 "nbformat_minor": 2
}

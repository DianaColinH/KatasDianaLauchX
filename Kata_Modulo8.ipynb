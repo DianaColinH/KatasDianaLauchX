{
 "cells": [
  {
   "cell_type": "markdown",
   "metadata": {},
   "source": [
    "Módulo 8"
   ]
  },
  {
   "cell_type": "markdown",
   "metadata": {},
   "source": [
    "Ejercicio 1"
   ]
  },
  {
   "cell_type": "code",
   "execution_count": 1,
   "metadata": {},
   "outputs": [
    {
     "name": "stdout",
     "output_type": "stream",
     "text": [
      "Marte tiene 2 lunas\n",
      "Marte tiene una circunferencia polar de 6752\n"
     ]
    }
   ],
   "source": [
    "# Crea un diccionario llamado planet con los datos propuestos\n",
    "\n",
    "planeta = {\n",
    "    'nombre': 'Marte',\n",
    "    'lunas': 2\n",
    "}\n",
    "\n",
    "# Muestra el nombre del planeta y el número de lunas que tiene.\n",
    "\n",
    "print(f'{planeta[\"nombre\"]} tiene {planeta[\"lunas\"]} lunas')\n",
    "\n",
    "# Agrega la clave circunferencia con los datos proporcionados previamente\n",
    "\n",
    "planeta['circunferencia (km)'] = {\n",
    "    'polar': 6752,\n",
    "    'ecuatorial': 6792\n",
    "}\n",
    "\n",
    "# Imprime el nombre del planeta con su circunferencia polar.\n",
    "\n",
    "print(f'{planeta[\"nombre\"]} tiene una circunferencia polar de {planeta[\"circunferencia (km)\"][\"polar\"]}')\n"
   ]
  },
  {
   "cell_type": "markdown",
   "metadata": {},
   "source": [
    "Ejercicio 2"
   ]
  },
  {
   "cell_type": "code",
   "execution_count": 2,
   "metadata": {},
   "outputs": [
    {
     "name": "stdout",
     "output_type": "stream",
     "text": [
      "El total de lunas es:  214 \n",
      "El total de planetas es:  12 \n",
      "El promedio de lunas es:  17.833333333333332\n"
     ]
    }
   ],
   "source": [
    "# Añade el código para determinar el número de lunas.\n",
    "# Planets and moons\n",
    "\n",
    "lunas_planetas = {\n",
    "    'Mercurio': 0,\n",
    "    'Venus': 0,\n",
    "    'Tierra': 1,\n",
    "    'Marte': 2,\n",
    "    'Jupiter': 79,\n",
    "    'Saturno': 82,\n",
    "    'Urano': 27,\n",
    "    'Neptuno': 14,\n",
    "    'Pluton': 5,\n",
    "    'Haumea': 2,\n",
    "    'Makemake': 1,\n",
    "    'Eris': 1\n",
    "}\n",
    "\n",
    "\n",
    "# Obtenemos la lista de las lunas\n",
    "# Almacenamos los resultados en una variable moons\n",
    "moons = lunas_planetas.values()\n",
    "\n",
    "# Obtenemos el total de planetas\n",
    "# Almacenamos los resultados en una variable llamada years\n",
    "planets = len(lunas_planetas.keys())\n",
    "\n",
    "# Calcula el total_moons agregando todas las lunas\n",
    "# Almacena su valor en una variable llamada total_moons\n",
    "\n",
    "total_moons = 0\n",
    "for moon in moons:\n",
    "    total_moons = total_moons + moon\n",
    "\n",
    "# Calcula el promedio dividiendo el total_moons por el número de planetas\n",
    "average = total_moons / planets\n",
    "\n",
    "# Muestra el promedio\n",
    "print('El total de lunas es: ', total_moons, '\\nEl total de planetas es: ',planets,'\\nEl promedio de lunas es: ',average)"
   ]
  }
 ],
 "metadata": {
  "interpreter": {
   "hash": "3e703312b85f56f3e2303e4a57f8fcc3b7bb059c1597519b6fdca3d9f8872ed0"
  },
  "kernelspec": {
   "display_name": "Python 3.8.10 64-bit (windows store)",
   "language": "python",
   "name": "python3"
  },
  "language_info": {
   "codemirror_mode": {
    "name": "ipython",
    "version": 3
   },
   "file_extension": ".py",
   "mimetype": "text/x-python",
   "name": "python",
   "nbconvert_exporter": "python",
   "pygments_lexer": "ipython3",
   "version": "3.8.10"
  },
  "orig_nbformat": 4
 },
 "nbformat": 4,
 "nbformat_minor": 2
}

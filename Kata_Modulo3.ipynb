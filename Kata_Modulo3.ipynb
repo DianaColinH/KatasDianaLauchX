{
 "cells": [
  {
   "cell_type": "markdown",
   "metadata": {},
   "source": [
    "Módulo 3"
   ]
  },
  {
   "cell_type": "markdown",
   "metadata": {},
   "source": [
    "Ejercicio 1"
   ]
  },
  {
   "cell_type": "code",
   "execution_count": 1,
   "metadata": {},
   "outputs": [
    {
     "name": "stdout",
     "output_type": "stream",
     "text": [
      "¡Alerta! ¡Un asteroide se acerca a velocidades peligrosas!\n"
     ]
    }
   ],
   "source": [
    "# Añadir el código necesario para crear una variable que guarde la velocidad del asteroide.\n",
    "# Escribe una expresión de prueba para calcular si necesita una advertencia.\n",
    "# Agregue las instrucciones que se ejecutarán si la expresión de prueba es true o false.\n",
    "\n",
    "asteroide = 49\n",
    "if asteroide > 25:\n",
    "    print('¡Alerta! ¡Un asteroide se acerca a velocidades peligrosas!')\n",
    "else:\n",
    "    print('¡No hay peligro, sigue con tu día!')"
   ]
  },
  {
   "cell_type": "markdown",
   "metadata": {},
   "source": [
    "Ejercicio 2"
   ]
  },
  {
   "cell_type": "code",
   "execution_count": null,
   "metadata": {},
   "outputs": [],
   "source": [
    "# Agrega el código para crear una variable para un asteroide que viaja a 19 km/s\n",
    "# Escribe varias expresiones de prueba para determinar si puedes ver el rayo de luz desde la tierra\n",
    "# Agrega las instrucciones que se ejecutarán si las expresiones de prueba son True o False\n",
    "\n",
    "asteroide = 20\n",
    "if asteroide >= 20:\n",
    "    print('Mira al cielo, ¡Hay una luz mágica ahi arriba!')\n",
    "#elif asteroide == 20:\n",
    "#   print('Look up! ¡Hay una luz mágica en el cielo!')\n",
    "else:\n",
    "    print('No hay nada de que preocuparse')"
   ]
  },
  {
   "cell_type": "markdown",
   "metadata": {},
   "source": [
    "Ejercicio 3"
   ]
  },
  {
   "cell_type": "code",
   "execution_count": 2,
   "metadata": {},
   "outputs": [
    {
     "name": "stdout",
     "output_type": "stream",
     "text": [
      "¡Cuidado, hay un asteroide peligroso vieniendo hacia la Tierra!\n"
     ]
    }
   ],
   "source": [
    "# Agrega el código para crear nuevas variables para la velocidad y el tamaño del asteroide\n",
    "# Para probar el código, prueba con varias velocidades y tamaños\n",
    "# Escribe varias expresiones de prueba o combinaciones de expresiones de prueba para determinar qué mensaje se debe enviar a Tierra.\n",
    "\n",
    "velocidad_asteroide = 25\n",
    "tamano_asteroide = 20\n",
    "if velocidad_asteroide >= 25 or tamano_asteroide >= 25:\n",
    "    print('¡Cuidado, hay un asteroide peligroso vieniendo hacia la Tierra!')\n",
    "elif velocidad_asteroide >= 20 and velocidad_asteroide <25:\n",
    "    print('Mira el cielo, ¡Hay una luz mágica ahi arriba!')\n",
    "elif tamano_asteroide < 25 or velocidad_asteroide <20:\n",
    "    print('No hay nada de que preocuparse.')\n",
    "else:\n",
    "    print('No hay nada de que preocuparse.')"
   ]
  }
 ],
 "metadata": {
  "interpreter": {
   "hash": "3e703312b85f56f3e2303e4a57f8fcc3b7bb059c1597519b6fdca3d9f8872ed0"
  },
  "kernelspec": {
   "display_name": "Python 3.8.10 64-bit (windows store)",
   "language": "python",
   "name": "python3"
  },
  "language_info": {
   "codemirror_mode": {
    "name": "ipython",
    "version": 3
   },
   "file_extension": ".py",
   "mimetype": "text/x-python",
   "name": "python",
   "nbconvert_exporter": "python",
   "pygments_lexer": "ipython3",
   "version": "3.8.10"
  },
  "orig_nbformat": 4
 },
 "nbformat": 4,
 "nbformat_minor": 2
}

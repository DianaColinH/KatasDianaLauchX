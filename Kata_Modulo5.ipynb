{
 "cells": [
  {
   "cell_type": "markdown",
   "metadata": {},
   "source": [
    "Módulo 5"
   ]
  },
  {
   "cell_type": "markdown",
   "metadata": {},
   "source": [
    "Ejercicio 1"
   ]
  },
  {
   "cell_type": "code",
   "execution_count": 1,
   "metadata": {},
   "outputs": [
    {
     "name": "stdout",
     "output_type": "stream",
     "text": [
      "La distancia entre los dos planetas en km es: 628949330\n",
      "La distancia entre los dos planetas en millas es: 390577534\n"
     ]
    }
   ],
   "source": [
    "# Crear variables para almacenar las dos distancias\n",
    "# ¡Asegúrate de quitar las comas!\n",
    "\n",
    "planeta1 = 149597870\n",
    "planeta2 = 778547200\n",
    "\n",
    "distanciakm = abs(planeta1 - planeta2)\n",
    "distanciami = round(distanciakm*0.621)\n",
    "reskm = str(distanciakm)\n",
    "resmi = str(distanciami)\n",
    "\n",
    "# Calcular la distancia entre planetas\n",
    "\n",
    "print(str('La distancia entre los dos planetas en km es: '+reskm))\n",
    "print(str('La distancia entre los dos planetas en millas es: ')+resmi)\n",
    "#print(abs(resmi))"
   ]
  },
  {
   "cell_type": "markdown",
   "metadata": {},
   "source": [
    "Ejercicio 2"
   ]
  },
  {
   "cell_type": "code",
   "execution_count": 2,
   "metadata": {},
   "outputs": [
    {
     "name": "stdout",
     "output_type": "stream",
     "text": [
      "La distancia entre los planetas en km es:  50\n",
      "La distancia entre los planetas en millas es:  31.05\n"
     ]
    }
   ],
   "source": [
    "# Almacenar las entradas del usuario\n",
    "#Pista: variable = input(\"¿Cuál es tu nombre?\")\n",
    "planeta1 = input('Introduce la distancia del sol al planeta 1: ')\n",
    "planeta2 = input('Introduce la distancia del sol al planeta 2: ')\n",
    "\n",
    "# Convierte las cadenas de ambos planetas a números enteros\n",
    "planeta1 = int(planeta1)\n",
    "planeta2 = int(planeta2)\n",
    "\n",
    "# Realizar el cálculo y determinar el valor absoluto\n",
    "distanciakm = abs(planeta1 - planeta2)\n",
    "    #reskm = str(distanciakm)\n",
    "print('La distancia entre los planetas en km es: ',distanciakm)\n",
    "\n",
    "# Convertir de KM a Millas\n",
    "distanciami = abs(distanciakm * 0.621)\n",
    "    #resmi = str(distanciami)\n",
    "print('La distancia entre los planetas en millas es: ',distanciami)\n",
    "\n"
   ]
  }
 ],
 "metadata": {
  "interpreter": {
   "hash": "3e703312b85f56f3e2303e4a57f8fcc3b7bb059c1597519b6fdca3d9f8872ed0"
  },
  "kernelspec": {
   "display_name": "Python 3.8.10 64-bit (windows store)",
   "language": "python",
   "name": "python3"
  },
  "language_info": {
   "codemirror_mode": {
    "name": "ipython",
    "version": 3
   },
   "file_extension": ".py",
   "mimetype": "text/x-python",
   "name": "python",
   "nbconvert_exporter": "python",
   "pygments_lexer": "ipython3",
   "version": "3.8.10"
  },
  "orig_nbformat": 4
 },
 "nbformat": 4,
 "nbformat_minor": 2
}
